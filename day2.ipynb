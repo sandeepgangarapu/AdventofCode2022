{
 "cells": [
  {
   "cell_type": "code",
   "execution_count": 75,
   "metadata": {
    "collapsed": true
   },
   "outputs": [],
   "source": [
    "import numpy as np\n",
    "import pandas as pd\n",
    "df = pd.read_csv('input_files/day2.txt', header=None, skip_blank_lines=False)"
   ]
  },
  {
   "cell_type": "markdown",
   "source": [
    "Problem 1"
   ],
   "metadata": {
    "collapsed": false
   }
  },
  {
   "cell_type": "code",
   "execution_count": 76,
   "outputs": [
    {
     "data": {
      "text/plain": "     0\n0  C X\n1  C X\n2  C X\n3  A Z\n4  C X",
      "text/html": "<div>\n<style scoped>\n    .dataframe tbody tr th:only-of-type {\n        vertical-align: middle;\n    }\n\n    .dataframe tbody tr th {\n        vertical-align: top;\n    }\n\n    .dataframe thead th {\n        text-align: right;\n    }\n</style>\n<table border=\"1\" class=\"dataframe\">\n  <thead>\n    <tr style=\"text-align: right;\">\n      <th></th>\n      <th>0</th>\n    </tr>\n  </thead>\n  <tbody>\n    <tr>\n      <th>0</th>\n      <td>C X</td>\n    </tr>\n    <tr>\n      <th>1</th>\n      <td>C X</td>\n    </tr>\n    <tr>\n      <th>2</th>\n      <td>C X</td>\n    </tr>\n    <tr>\n      <th>3</th>\n      <td>A Z</td>\n    </tr>\n    <tr>\n      <th>4</th>\n      <td>C X</td>\n    </tr>\n  </tbody>\n</table>\n</div>"
     },
     "execution_count": 76,
     "metadata": {},
     "output_type": "execute_result"
    }
   ],
   "source": [
    "df.head()"
   ],
   "metadata": {
    "collapsed": false
   }
  },
  {
   "cell_type": "code",
   "execution_count": 77,
   "outputs": [],
   "source": [
    "# split the column into 2\n",
    "df[['villian', 'self']] = df[0].str.split(' ', expand=True)\n",
    "df['conv_villian'] = df['villian'].map({'A':1, 'B':2, 'C':3})\n",
    "df['conv_self'] = df['self'].map({'X':1, 'Y':2, 'Z':3})\n",
    "df['conv_diff'] = df['conv_self'] - df['conv_villian']\n",
    "df['winning_score'] = np.where(df['conv_diff']==0, 3, np.where((df['conv_diff']==1) | (df['conv_diff']==-2), 6, 0))"
   ],
   "metadata": {
    "collapsed": false
   }
  },
  {
   "cell_type": "code",
   "execution_count": 78,
   "outputs": [
    {
     "data": {
      "text/plain": "14069"
     },
     "execution_count": 78,
     "metadata": {},
     "output_type": "execute_result"
    }
   ],
   "source": [
    "df['winning_score'].sum()  +  df['conv_self'].sum()"
   ],
   "metadata": {
    "collapsed": false
   }
  },
  {
   "cell_type": "markdown",
   "source": [
    "Problem 2"
   ],
   "metadata": {
    "collapsed": false
   }
  },
  {
   "cell_type": "code",
   "execution_count": 79,
   "outputs": [],
   "source": [
    "df['backtrack'] = np.where(df['self']=='X', df['conv_villian']-1, np.where(df['self']=='Y', df['conv_villian'], df['conv_villian']+1))\n",
    "df['backtrack'] = np.where(df['backtrack']==0, 3, np.where(df['backtrack']==4, 1, df['backtrack']))\n"
   ],
   "metadata": {
    "collapsed": false
   }
  },
  {
   "cell_type": "code",
   "execution_count": 80,
   "outputs": [],
   "source": [
    "df['backtrack_win'] = df['self'].map({'X':0, 'Y':3, 'Z':6})"
   ],
   "metadata": {
    "collapsed": false
   }
  },
  {
   "cell_type": "code",
   "execution_count": 81,
   "outputs": [
    {
     "data": {
      "text/plain": "12411"
     },
     "execution_count": 81,
     "metadata": {},
     "output_type": "execute_result"
    }
   ],
   "source": [
    "df['backtrack_win'].sum()  +  df['backtrack'].sum()\n"
   ],
   "metadata": {
    "collapsed": false
   }
  },
  {
   "cell_type": "code",
   "execution_count": 83,
   "outputs": [
    {
     "data": {
      "text/plain": "     0 villian self  conv_villian  conv_self  conv_diff  winning_score  \\\n0  C X       C    X             3          1         -2              6   \n1  C X       C    X             3          1         -2              6   \n2  C X       C    X             3          1         -2              6   \n3  A Z       A    Z             1          3          2              0   \n4  C X       C    X             3          1         -2              6   \n\n   backtrack  backtrack_win  \n0          2              0  \n1          2              0  \n2          2              0  \n3          2              6  \n4          2              0  ",
      "text/html": "<div>\n<style scoped>\n    .dataframe tbody tr th:only-of-type {\n        vertical-align: middle;\n    }\n\n    .dataframe tbody tr th {\n        vertical-align: top;\n    }\n\n    .dataframe thead th {\n        text-align: right;\n    }\n</style>\n<table border=\"1\" class=\"dataframe\">\n  <thead>\n    <tr style=\"text-align: right;\">\n      <th></th>\n      <th>0</th>\n      <th>villian</th>\n      <th>self</th>\n      <th>conv_villian</th>\n      <th>conv_self</th>\n      <th>conv_diff</th>\n      <th>winning_score</th>\n      <th>backtrack</th>\n      <th>backtrack_win</th>\n    </tr>\n  </thead>\n  <tbody>\n    <tr>\n      <th>0</th>\n      <td>C X</td>\n      <td>C</td>\n      <td>X</td>\n      <td>3</td>\n      <td>1</td>\n      <td>-2</td>\n      <td>6</td>\n      <td>2</td>\n      <td>0</td>\n    </tr>\n    <tr>\n      <th>1</th>\n      <td>C X</td>\n      <td>C</td>\n      <td>X</td>\n      <td>3</td>\n      <td>1</td>\n      <td>-2</td>\n      <td>6</td>\n      <td>2</td>\n      <td>0</td>\n    </tr>\n    <tr>\n      <th>2</th>\n      <td>C X</td>\n      <td>C</td>\n      <td>X</td>\n      <td>3</td>\n      <td>1</td>\n      <td>-2</td>\n      <td>6</td>\n      <td>2</td>\n      <td>0</td>\n    </tr>\n    <tr>\n      <th>3</th>\n      <td>A Z</td>\n      <td>A</td>\n      <td>Z</td>\n      <td>1</td>\n      <td>3</td>\n      <td>2</td>\n      <td>0</td>\n      <td>2</td>\n      <td>6</td>\n    </tr>\n    <tr>\n      <th>4</th>\n      <td>C X</td>\n      <td>C</td>\n      <td>X</td>\n      <td>3</td>\n      <td>1</td>\n      <td>-2</td>\n      <td>6</td>\n      <td>2</td>\n      <td>0</td>\n    </tr>\n  </tbody>\n</table>\n</div>"
     },
     "execution_count": 83,
     "metadata": {},
     "output_type": "execute_result"
    }
   ],
   "source": [
    "df.head()"
   ],
   "metadata": {
    "collapsed": false
   }
  }
 ],
 "metadata": {
  "kernelspec": {
   "display_name": "Python 3",
   "language": "python",
   "name": "python3"
  },
  "language_info": {
   "codemirror_mode": {
    "name": "ipython",
    "version": 2
   },
   "file_extension": ".py",
   "mimetype": "text/x-python",
   "name": "python",
   "nbconvert_exporter": "python",
   "pygments_lexer": "ipython2",
   "version": "2.7.6"
  }
 },
 "nbformat": 4,
 "nbformat_minor": 0
}
