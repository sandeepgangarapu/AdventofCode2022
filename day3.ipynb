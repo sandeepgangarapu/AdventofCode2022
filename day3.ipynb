{
 "cells": [
  {
   "cell_type": "code",
   "execution_count": 116,
   "metadata": {
    "collapsed": true
   },
   "outputs": [],
   "source": [
    "import numpy as np\n",
    "import pandas as pd\n",
    "df = pd.read_csv('input_files/day3.txt', header=None, skip_blank_lines=False)"
   ]
  },
  {
   "cell_type": "code",
   "execution_count": 117,
   "outputs": [],
   "source": [
    "lower_letters= np.array(list('abcdefghijklmnopqrstuvwxyz'))\n",
    "upper_letters = np.char.upper(lower_letters)\n",
    "all_letters = np.concatenate((lower_letters, upper_letters))"
   ],
   "metadata": {
    "collapsed": false
   }
  },
  {
   "cell_type": "code",
   "execution_count": 119,
   "outputs": [],
   "source": [
    "df['size'] = df[0].apply(len)"
   ],
   "metadata": {
    "collapsed": false
   }
  },
  {
   "cell_type": "code",
   "execution_count": 120,
   "outputs": [],
   "source": [
    "df[['first_half','second_half']]=df.apply(lambda x: [x[0][0:int((x['size']) / 2)], x[0][(int(x['size'] / 2)):x['size'] + 1]], axis=1, result_type='expand')"
   ],
   "metadata": {
    "collapsed": false
   }
  },
  {
   "cell_type": "code",
   "execution_count": 121,
   "outputs": [],
   "source": [
    "df['common_elements'] = df.apply(lambda x: list(set(list(x['first_half'])) & set(list(x['second_half'])))[0], axis = 1)"
   ],
   "metadata": {
    "collapsed": false
   }
  },
  {
   "cell_type": "code",
   "execution_count": 122,
   "outputs": [],
   "source": [
    "df['position'] = df['common_elements'].apply(lambda x: np.where(all_letters==x)[0][0]+1)"
   ],
   "metadata": {
    "collapsed": false
   }
  },
  {
   "cell_type": "code",
   "execution_count": 123,
   "outputs": [
    {
     "data": {
      "text/plain": "                                                  0  size  \\\n0                    lDDWVvlVVQfDMlWjGJTRjQCgTGLCLj    30   \n1                  ZLZpwzLBhwZhSLBsjntGCtgJRjbnJgSG    32   \n2        qppdZzzsdsmZphrNsNwZhllDHLcVVDWFPvFWcWdFlv    42   \n3                            ztdhgJDBJghmQtPFQPpmbw    22   \n4    lVlLRcnfllcfVcccGnSQVLcsTPFbpwsPFspTSqmbpswpbF    46   \n..                                              ...   ...   \n295                              ZvWDmMvmSvCndssrsJ    18   \n296                            WcZcNWlcMjBQpzNTqVBp    20   \n297                    DpLPZLDDlcgmDmhVgfgfWWRwhwwt    28   \n298                      VrVMdbCrrBTjCMQQtMwQNSqMQW    26   \n299    VCBHdJHdvrrFsbsdrBJTdTzZcpmZGDGPlmzmlccFDZDn    44   \n\n                  first_half              second_half common_elements  \\\n0            lDDWVvlVVQfDMlW          jGJTRjQCgTGLCLj               Q   \n1           ZLZpwzLBhwZhSLBs         jntGCtgJRjbnJgSG               S   \n2      qppdZzzsdsmZphrNsNwZh    llDHLcVVDWFPvFWcWdFlv               d   \n3                ztdhgJDBJgh              mQtPFQPpmbw               t   \n4    lVlLRcnfllcfVcccGnSQVLc  sTPFbpwsPFspTSqmbpswpbF               S   \n..                       ...                      ...             ...   \n295                ZvWDmMvmS                vCndssrsJ               v   \n296               WcZcNWlcMj               BQpzNTqVBp               N   \n297           DpLPZLDDlcgmDm           hVgfgfWWRwhwwt               g   \n298            VrVMdbCrrBTjC            MQQtMwQNSqMQW               M   \n299   VCBHdJHdvrrFsbsdrBJTdT   zZcpmZGDGPlmzmlccFDZDn               F   \n\n     position  \n0          43  \n1          45  \n2           4  \n3          20  \n4          45  \n..        ...  \n295        22  \n296        40  \n297         7  \n298        39  \n299        32  \n\n[300 rows x 6 columns]",
      "text/html": "<div>\n<style scoped>\n    .dataframe tbody tr th:only-of-type {\n        vertical-align: middle;\n    }\n\n    .dataframe tbody tr th {\n        vertical-align: top;\n    }\n\n    .dataframe thead th {\n        text-align: right;\n    }\n</style>\n<table border=\"1\" class=\"dataframe\">\n  <thead>\n    <tr style=\"text-align: right;\">\n      <th></th>\n      <th>0</th>\n      <th>size</th>\n      <th>first_half</th>\n      <th>second_half</th>\n      <th>common_elements</th>\n      <th>position</th>\n    </tr>\n  </thead>\n  <tbody>\n    <tr>\n      <th>0</th>\n      <td>lDDWVvlVVQfDMlWjGJTRjQCgTGLCLj</td>\n      <td>30</td>\n      <td>lDDWVvlVVQfDMlW</td>\n      <td>jGJTRjQCgTGLCLj</td>\n      <td>Q</td>\n      <td>43</td>\n    </tr>\n    <tr>\n      <th>1</th>\n      <td>ZLZpwzLBhwZhSLBsjntGCtgJRjbnJgSG</td>\n      <td>32</td>\n      <td>ZLZpwzLBhwZhSLBs</td>\n      <td>jntGCtgJRjbnJgSG</td>\n      <td>S</td>\n      <td>45</td>\n    </tr>\n    <tr>\n      <th>2</th>\n      <td>qppdZzzsdsmZphrNsNwZhllDHLcVVDWFPvFWcWdFlv</td>\n      <td>42</td>\n      <td>qppdZzzsdsmZphrNsNwZh</td>\n      <td>llDHLcVVDWFPvFWcWdFlv</td>\n      <td>d</td>\n      <td>4</td>\n    </tr>\n    <tr>\n      <th>3</th>\n      <td>ztdhgJDBJghmQtPFQPpmbw</td>\n      <td>22</td>\n      <td>ztdhgJDBJgh</td>\n      <td>mQtPFQPpmbw</td>\n      <td>t</td>\n      <td>20</td>\n    </tr>\n    <tr>\n      <th>4</th>\n      <td>lVlLRcnfllcfVcccGnSQVLcsTPFbpwsPFspTSqmbpswpbF</td>\n      <td>46</td>\n      <td>lVlLRcnfllcfVcccGnSQVLc</td>\n      <td>sTPFbpwsPFspTSqmbpswpbF</td>\n      <td>S</td>\n      <td>45</td>\n    </tr>\n    <tr>\n      <th>...</th>\n      <td>...</td>\n      <td>...</td>\n      <td>...</td>\n      <td>...</td>\n      <td>...</td>\n      <td>...</td>\n    </tr>\n    <tr>\n      <th>295</th>\n      <td>ZvWDmMvmSvCndssrsJ</td>\n      <td>18</td>\n      <td>ZvWDmMvmS</td>\n      <td>vCndssrsJ</td>\n      <td>v</td>\n      <td>22</td>\n    </tr>\n    <tr>\n      <th>296</th>\n      <td>WcZcNWlcMjBQpzNTqVBp</td>\n      <td>20</td>\n      <td>WcZcNWlcMj</td>\n      <td>BQpzNTqVBp</td>\n      <td>N</td>\n      <td>40</td>\n    </tr>\n    <tr>\n      <th>297</th>\n      <td>DpLPZLDDlcgmDmhVgfgfWWRwhwwt</td>\n      <td>28</td>\n      <td>DpLPZLDDlcgmDm</td>\n      <td>hVgfgfWWRwhwwt</td>\n      <td>g</td>\n      <td>7</td>\n    </tr>\n    <tr>\n      <th>298</th>\n      <td>VrVMdbCrrBTjCMQQtMwQNSqMQW</td>\n      <td>26</td>\n      <td>VrVMdbCrrBTjC</td>\n      <td>MQQtMwQNSqMQW</td>\n      <td>M</td>\n      <td>39</td>\n    </tr>\n    <tr>\n      <th>299</th>\n      <td>VCBHdJHdvrrFsbsdrBJTdTzZcpmZGDGPlmzmlccFDZDn</td>\n      <td>44</td>\n      <td>VCBHdJHdvrrFsbsdrBJTdT</td>\n      <td>zZcpmZGDGPlmzmlccFDZDn</td>\n      <td>F</td>\n      <td>32</td>\n    </tr>\n  </tbody>\n</table>\n<p>300 rows × 6 columns</p>\n</div>"
     },
     "execution_count": 123,
     "metadata": {},
     "output_type": "execute_result"
    }
   ],
   "source": [
    "df"
   ],
   "metadata": {
    "collapsed": false
   }
  },
  {
   "cell_type": "code",
   "execution_count": 114,
   "outputs": [
    {
     "data": {
      "text/plain": "7967"
     },
     "execution_count": 114,
     "metadata": {},
     "output_type": "execute_result"
    }
   ],
   "source": [
    "df['position'].sum()"
   ],
   "metadata": {
    "collapsed": false
   }
  },
  {
   "cell_type": "code",
   "execution_count": null,
   "outputs": [],
   "source": [],
   "metadata": {
    "collapsed": false
   }
  }
 ],
 "metadata": {
  "kernelspec": {
   "display_name": "Python 3",
   "language": "python",
   "name": "python3"
  },
  "language_info": {
   "codemirror_mode": {
    "name": "ipython",
    "version": 2
   },
   "file_extension": ".py",
   "mimetype": "text/x-python",
   "name": "python",
   "nbconvert_exporter": "python",
   "pygments_lexer": "ipython2",
   "version": "2.7.6"
  }
 },
 "nbformat": 4,
 "nbformat_minor": 0
}
