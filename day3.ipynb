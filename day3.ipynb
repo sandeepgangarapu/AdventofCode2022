{
 "cells": [
  {
   "cell_type": "code",
   "execution_count": 209,
   "metadata": {
    "collapsed": true
   },
   "outputs": [],
   "source": [
    "import numpy as np\n",
    "import pandas as pd\n",
    "df = pd.read_csv('input_files/day3.txt', names =['rucksack'], header=None, skip_blank_lines=False)"
   ]
  },
  {
   "cell_type": "code",
   "execution_count": 210,
   "outputs": [],
   "source": [
    "lower_letters= np.array(list('abcdefghijklmnopqrstuvwxyz'))\n",
    "upper_letters = np.char.upper(lower_letters)\n",
    "all_letters = np.concatenate((lower_letters, upper_letters))"
   ],
   "metadata": {
    "collapsed": false
   }
  },
  {
   "cell_type": "code",
   "execution_count": 213,
   "outputs": [
    {
     "data": {
      "text/plain": "                                           rucksack  size  \\\n0                    lDDWVvlVVQfDMlWjGJTRjQCgTGLCLj    30   \n1                  ZLZpwzLBhwZhSLBsjntGCtgJRjbnJgSG    32   \n2        qppdZzzsdsmZphrNsNwZhllDHLcVVDWFPvFWcWdFlv    42   \n3                            ztdhgJDBJghmQtPFQPpmbw    22   \n4    lVlLRcnfllcfVcccGnSQVLcsTPFbpwsPFspTSqmbpswpbF    46   \n..                                              ...   ...   \n295                              ZvWDmMvmSvCndssrsJ    18   \n296                            WcZcNWlcMjBQpzNTqVBp    20   \n297                    DpLPZLDDlcgmDmhVgfgfWWRwhwwt    28   \n298                      VrVMdbCrrBTjCMQQtMwQNSqMQW    26   \n299    VCBHdJHdvrrFsbsdrBJTdTzZcpmZGDGPlmzmlccFDZDn    44   \n\n                  first_half              second_half common_elements  \\\n0            lDDWVvlVVQfDMlW          jGJTRjQCgTGLCLj               Q   \n1           ZLZpwzLBhwZhSLBs         jntGCtgJRjbnJgSG               S   \n2      qppdZzzsdsmZphrNsNwZh    llDHLcVVDWFPvFWcWdFlv               d   \n3                ztdhgJDBJgh              mQtPFQPpmbw               t   \n4    lVlLRcnfllcfVcccGnSQVLc  sTPFbpwsPFspTSqmbpswpbF               S   \n..                       ...                      ...             ...   \n295                ZvWDmMvmS                vCndssrsJ               v   \n296               WcZcNWlcMj               BQpzNTqVBp               N   \n297           DpLPZLDDlcgmDm           hVgfgfWWRwhwwt               g   \n298            VrVMdbCrrBTjC            MQQtMwQNSqMQW               M   \n299   VCBHdJHdvrrFsbsdrBJTdT   zZcpmZGDGPlmzmlccFDZDn               F   \n\n     position  \n0          43  \n1          45  \n2           4  \n3          20  \n4          45  \n..        ...  \n295        22  \n296        40  \n297         7  \n298        39  \n299        32  \n\n[300 rows x 6 columns]",
      "text/html": "<div>\n<style scoped>\n    .dataframe tbody tr th:only-of-type {\n        vertical-align: middle;\n    }\n\n    .dataframe tbody tr th {\n        vertical-align: top;\n    }\n\n    .dataframe thead th {\n        text-align: right;\n    }\n</style>\n<table border=\"1\" class=\"dataframe\">\n  <thead>\n    <tr style=\"text-align: right;\">\n      <th></th>\n      <th>rucksack</th>\n      <th>size</th>\n      <th>first_half</th>\n      <th>second_half</th>\n      <th>common_elements</th>\n      <th>position</th>\n    </tr>\n  </thead>\n  <tbody>\n    <tr>\n      <th>0</th>\n      <td>lDDWVvlVVQfDMlWjGJTRjQCgTGLCLj</td>\n      <td>30</td>\n      <td>lDDWVvlVVQfDMlW</td>\n      <td>jGJTRjQCgTGLCLj</td>\n      <td>Q</td>\n      <td>43</td>\n    </tr>\n    <tr>\n      <th>1</th>\n      <td>ZLZpwzLBhwZhSLBsjntGCtgJRjbnJgSG</td>\n      <td>32</td>\n      <td>ZLZpwzLBhwZhSLBs</td>\n      <td>jntGCtgJRjbnJgSG</td>\n      <td>S</td>\n      <td>45</td>\n    </tr>\n    <tr>\n      <th>2</th>\n      <td>qppdZzzsdsmZphrNsNwZhllDHLcVVDWFPvFWcWdFlv</td>\n      <td>42</td>\n      <td>qppdZzzsdsmZphrNsNwZh</td>\n      <td>llDHLcVVDWFPvFWcWdFlv</td>\n      <td>d</td>\n      <td>4</td>\n    </tr>\n    <tr>\n      <th>3</th>\n      <td>ztdhgJDBJghmQtPFQPpmbw</td>\n      <td>22</td>\n      <td>ztdhgJDBJgh</td>\n      <td>mQtPFQPpmbw</td>\n      <td>t</td>\n      <td>20</td>\n    </tr>\n    <tr>\n      <th>4</th>\n      <td>lVlLRcnfllcfVcccGnSQVLcsTPFbpwsPFspTSqmbpswpbF</td>\n      <td>46</td>\n      <td>lVlLRcnfllcfVcccGnSQVLc</td>\n      <td>sTPFbpwsPFspTSqmbpswpbF</td>\n      <td>S</td>\n      <td>45</td>\n    </tr>\n    <tr>\n      <th>...</th>\n      <td>...</td>\n      <td>...</td>\n      <td>...</td>\n      <td>...</td>\n      <td>...</td>\n      <td>...</td>\n    </tr>\n    <tr>\n      <th>295</th>\n      <td>ZvWDmMvmSvCndssrsJ</td>\n      <td>18</td>\n      <td>ZvWDmMvmS</td>\n      <td>vCndssrsJ</td>\n      <td>v</td>\n      <td>22</td>\n    </tr>\n    <tr>\n      <th>296</th>\n      <td>WcZcNWlcMjBQpzNTqVBp</td>\n      <td>20</td>\n      <td>WcZcNWlcMj</td>\n      <td>BQpzNTqVBp</td>\n      <td>N</td>\n      <td>40</td>\n    </tr>\n    <tr>\n      <th>297</th>\n      <td>DpLPZLDDlcgmDmhVgfgfWWRwhwwt</td>\n      <td>28</td>\n      <td>DpLPZLDDlcgmDm</td>\n      <td>hVgfgfWWRwhwwt</td>\n      <td>g</td>\n      <td>7</td>\n    </tr>\n    <tr>\n      <th>298</th>\n      <td>VrVMdbCrrBTjCMQQtMwQNSqMQW</td>\n      <td>26</td>\n      <td>VrVMdbCrrBTjC</td>\n      <td>MQQtMwQNSqMQW</td>\n      <td>M</td>\n      <td>39</td>\n    </tr>\n    <tr>\n      <th>299</th>\n      <td>VCBHdJHdvrrFsbsdrBJTdTzZcpmZGDGPlmzmlccFDZDn</td>\n      <td>44</td>\n      <td>VCBHdJHdvrrFsbsdrBJTdT</td>\n      <td>zZcpmZGDGPlmzmlccFDZDn</td>\n      <td>F</td>\n      <td>32</td>\n    </tr>\n  </tbody>\n</table>\n<p>300 rows × 6 columns</p>\n</div>"
     },
     "execution_count": 213,
     "metadata": {},
     "output_type": "execute_result"
    }
   ],
   "source": [
    "df['size'] = df['rucksack'].apply(len)\n",
    "df[['first_half','second_half']]=df.apply(lambda x: [x[0][0:int((x['size']) / 2)], x[0][(int(x['size'] / 2)):x['size'] + 1]], axis=1, result_type='expand')\n",
    "df['common_elements'] = df.apply(lambda x: list(set(list(x['first_half'])) & set(list(x['second_half'])))[0], axis = 1)\n",
    "df['position'] = df['common_elements'].apply(lambda x: np.where(all_letters==x)[0][0]+1)\n",
    "df"
   ],
   "metadata": {
    "collapsed": false
   }
  },
  {
   "cell_type": "code",
   "execution_count": 214,
   "outputs": [
    {
     "data": {
      "text/plain": "7967"
     },
     "execution_count": 214,
     "metadata": {},
     "output_type": "execute_result"
    }
   ],
   "source": [
    "df['position'].sum()"
   ],
   "metadata": {
    "collapsed": false
   }
  },
  {
   "cell_type": "code",
   "execution_count": 215,
   "outputs": [
    {
     "data": {
      "text/plain": "    group                                           rucksack common_item  \\\n0       1  [lDDWVvlVVQfDMlWjGJTRjQCgTGLCLj, ZLZpwzLBhwZhS...           L   \n1       2  [ztdhgJDBJghmQtPFQPpmbw, lVlLRcnfllcfVcccGnSQV...           Q   \n2       3  [NfnSSQpdnRSSpvWdSsjZDGNDjGDwTGTjHG, wlPzPqzPF...           w   \n3       4  [cBNBBCHhbhNhblBcCCvcBHSwTwDQSqRwDQpDRsjHST, d...           q   \n4       5  [ZfpmNDfRhzbbqDnD, SFtFjTTZVTFvVTjHrsVvqGBJqhn...           Z   \n..    ...                                                ...         ...   \n95     96  [dsDFsBZBhCFhshFrpBFnmLQmHmRgRbLqmmmRQDLm, PPB...           B   \n96     97  [bPzRlMPTzTMldJMnhswcjzfQVccQhc, HCCqNmNmQQmQs...           J   \n97     98  [nTmhrsPMsTfmHHGcSgtj, bJJwdlrJQLlvwlQDDwSbgff...           r   \n98     99  [qRVRqBzgwqRpqRgVqQRPpQJJPrPhPGJnsGrCFdFJrZdG,...           Z   \n99    100  [DpLPZLDDlcgmDmhVgfgfWWRwhwwt, VrVMdbCrrBTjCMQ...           V   \n\n    position  \n0         38  \n1         43  \n2         23  \n3         17  \n4         52  \n..       ...  \n95        28  \n96        36  \n97        18  \n98        52  \n99        48  \n\n[100 rows x 4 columns]",
      "text/html": "<div>\n<style scoped>\n    .dataframe tbody tr th:only-of-type {\n        vertical-align: middle;\n    }\n\n    .dataframe tbody tr th {\n        vertical-align: top;\n    }\n\n    .dataframe thead th {\n        text-align: right;\n    }\n</style>\n<table border=\"1\" class=\"dataframe\">\n  <thead>\n    <tr style=\"text-align: right;\">\n      <th></th>\n      <th>group</th>\n      <th>rucksack</th>\n      <th>common_item</th>\n      <th>position</th>\n    </tr>\n  </thead>\n  <tbody>\n    <tr>\n      <th>0</th>\n      <td>1</td>\n      <td>[lDDWVvlVVQfDMlWjGJTRjQCgTGLCLj, ZLZpwzLBhwZhS...</td>\n      <td>L</td>\n      <td>38</td>\n    </tr>\n    <tr>\n      <th>1</th>\n      <td>2</td>\n      <td>[ztdhgJDBJghmQtPFQPpmbw, lVlLRcnfllcfVcccGnSQV...</td>\n      <td>Q</td>\n      <td>43</td>\n    </tr>\n    <tr>\n      <th>2</th>\n      <td>3</td>\n      <td>[NfnSSQpdnRSSpvWdSsjZDGNDjGDwTGTjHG, wlPzPqzPF...</td>\n      <td>w</td>\n      <td>23</td>\n    </tr>\n    <tr>\n      <th>3</th>\n      <td>4</td>\n      <td>[cBNBBCHhbhNhblBcCCvcBHSwTwDQSqRwDQpDRsjHST, d...</td>\n      <td>q</td>\n      <td>17</td>\n    </tr>\n    <tr>\n      <th>4</th>\n      <td>5</td>\n      <td>[ZfpmNDfRhzbbqDnD, SFtFjTTZVTFvVTjHrsVvqGBJqhn...</td>\n      <td>Z</td>\n      <td>52</td>\n    </tr>\n    <tr>\n      <th>...</th>\n      <td>...</td>\n      <td>...</td>\n      <td>...</td>\n      <td>...</td>\n    </tr>\n    <tr>\n      <th>95</th>\n      <td>96</td>\n      <td>[dsDFsBZBhCFhshFrpBFnmLQmHmRgRbLqmmmRQDLm, PPB...</td>\n      <td>B</td>\n      <td>28</td>\n    </tr>\n    <tr>\n      <th>96</th>\n      <td>97</td>\n      <td>[bPzRlMPTzTMldJMnhswcjzfQVccQhc, HCCqNmNmQQmQs...</td>\n      <td>J</td>\n      <td>36</td>\n    </tr>\n    <tr>\n      <th>97</th>\n      <td>98</td>\n      <td>[nTmhrsPMsTfmHHGcSgtj, bJJwdlrJQLlvwlQDDwSbgff...</td>\n      <td>r</td>\n      <td>18</td>\n    </tr>\n    <tr>\n      <th>98</th>\n      <td>99</td>\n      <td>[qRVRqBzgwqRpqRgVqQRPpQJJPrPhPGJnsGrCFdFJrZdG,...</td>\n      <td>Z</td>\n      <td>52</td>\n    </tr>\n    <tr>\n      <th>99</th>\n      <td>100</td>\n      <td>[DpLPZLDDlcgmDmhVgfgfWWRwhwwt, VrVMdbCrrBTjCMQ...</td>\n      <td>V</td>\n      <td>48</td>\n    </tr>\n  </tbody>\n</table>\n<p>100 rows × 4 columns</p>\n</div>"
     },
     "execution_count": 215,
     "metadata": {},
     "output_type": "execute_result"
    }
   ],
   "source": [
    "df['group'] = pd.Series(df.index/3 + 1).apply(int)\n",
    "df2 = df.groupby('group')['rucksack'].agg(lambda x: list(x)).reset_index()\n",
    "df2['common_item'] = df2['rucksack'].apply(lambda x: list(set(x[0]) & set(x[1]) & set(x[2]))[0])\n",
    "df2['position'] = df2['common_item'].apply(lambda x: np.where(all_letters==x)[0][0]+1)\n",
    "df2"
   ],
   "metadata": {
    "collapsed": false
   }
  },
  {
   "cell_type": "code",
   "execution_count": 216,
   "outputs": [
    {
     "data": {
      "text/plain": "2716"
     },
     "execution_count": 216,
     "metadata": {},
     "output_type": "execute_result"
    }
   ],
   "source": [
    "df2['position'].sum()"
   ],
   "metadata": {
    "collapsed": false
   }
  }
 ],
 "metadata": {
  "kernelspec": {
   "display_name": "Python 3",
   "language": "python",
   "name": "python3"
  },
  "language_info": {
   "codemirror_mode": {
    "name": "ipython",
    "version": 2
   },
   "file_extension": ".py",
   "mimetype": "text/x-python",
   "name": "python",
   "nbconvert_exporter": "python",
   "pygments_lexer": "ipython2",
   "version": "2.7.6"
  }
 },
 "nbformat": 4,
 "nbformat_minor": 0
}
