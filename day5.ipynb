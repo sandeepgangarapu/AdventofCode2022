{
 "cells": [
  {
   "cell_type": "code",
   "execution_count": 130,
   "metadata": {
    "collapsed": true
   },
   "outputs": [],
   "source": [
    "import numpy as np\n",
    "import pandas as pd\n",
    "df = pd.read_csv('input_files/day5.txt', index_col=False, header=None, skip_blank_lines=False)"
   ]
  },
  {
   "cell_type": "code",
   "execution_count": 131,
   "outputs": [],
   "source": [
    "df_crates = df.iloc[:8,]\n",
    "df_inst = df.iloc[10:,]"
   ],
   "metadata": {
    "collapsed": false
   }
  },
  {
   "cell_type": "code",
   "execution_count": 106,
   "outputs": [
    {
     "data": {
      "text/plain": "['j', 'k', ' ', 'i']"
     },
     "execution_count": 106,
     "metadata": {},
     "output_type": "execute_result"
    }
   ],
   "source": [
    "def str_lis(x):\n",
    "    out = []\n",
    "    while len(x)>0:\n",
    "        out.append(x[1])\n",
    "        x = x[4:]\n",
    "    return out\n",
    "str_lis('[j] [k]     [i]')"
   ],
   "metadata": {
    "collapsed": false
   }
  },
  {
   "cell_type": "code",
   "execution_count": 132,
   "outputs": [
    {
     "name": "stderr",
     "output_type": "stream",
     "text": [
      "/var/folders/8s/d53bbfbn35jfz604b2ncg5880000gn/T/ipykernel_15254/377942334.py:1: SettingWithCopyWarning: \n",
      "A value is trying to be set on a copy of a slice from a DataFrame.\n",
      "Try using .loc[row_indexer,col_indexer] = value instead\n",
      "\n",
      "See the caveats in the documentation: https://pandas.pydata.org/pandas-docs/stable/user_guide/indexing.html#returning-a-view-versus-a-copy\n",
      "  df_inst[0]=df_inst[0].str.replace('move', '')\n"
     ]
    }
   ],
   "source": [
    "df_crates[0]=df_crates[0].apply(str_lis)"
   ],
   "metadata": {
    "collapsed": false
   }
  },
  {
   "cell_type": "code",
   "execution_count": 117,
   "outputs": [
    {
     "data": {
      "text/plain": "array([' ', 'Z', 'P', 'B', 'Q', 'M', 'D', 'N'], dtype='<U1')"
     },
     "execution_count": 117,
     "metadata": {},
     "output_type": "execute_result"
    }
   ],
   "source": [
    "crates_list = np.array(df_crates[0].to_list()).T\n",
    "crates_list[0]"
   ],
   "metadata": {
    "collapsed": false
   }
  },
  {
   "cell_type": "code",
   "execution_count": 127,
   "outputs": [
    {
     "name": "stderr",
     "output_type": "stream",
     "text": [
      "/var/folders/8s/d53bbfbn35jfz604b2ncg5880000gn/T/ipykernel_15254/2371368037.py:1: SettingWithCopyWarning: \n",
      "A value is trying to be set on a copy of a slice from a DataFrame.\n",
      "Try using .loc[row_indexer,col_indexer] = value instead\n",
      "\n",
      "See the caveats in the documentation: https://pandas.pydata.org/pandas-docs/stable/user_guide/indexing.html#returning-a-view-versus-a-copy\n",
      "  df_inst[0] = df_inst[0].apply(str_clean)\n"
     ]
    },
    {
     "data": {
      "text/plain": "10     325\n11     296\n12     471\n13     734\n14     298\n      ... \n507    147\n508    196\n509    967\n510    124\n511    195\nName: 0, Length: 502, dtype: object"
     },
     "execution_count": 127,
     "metadata": {},
     "output_type": "execute_result"
    }
   ],
   "source": [
    "df_inst[0]=df_inst[0].str.replace('move', '').str.replace('from', '').str.replace('to', '').str.replace(' ','')\n",
    "\n"
   ],
   "metadata": {
    "collapsed": false
   }
  },
  {
   "cell_type": "code",
   "execution_count": 135,
   "outputs": [
    {
     "name": "stderr",
     "output_type": "stream",
     "text": [
      "/var/folders/8s/d53bbfbn35jfz604b2ncg5880000gn/T/ipykernel_15254/345669173.py:1: SettingWithCopyWarning: \n",
      "A value is trying to be set on a copy of a slice from a DataFrame.\n",
      "Try using .loc[row_indexer,col_indexer] = value instead\n",
      "\n",
      "See the caveats in the documentation: https://pandas.pydata.org/pandas-docs/stable/user_guide/indexing.html#returning-a-view-versus-a-copy\n",
      "  df_inst[0]=df_inst[0].str.replace('move', '').str.replace('from', '')\n"
     ]
    }
   ],
   "source": [],
   "metadata": {
    "collapsed": false
   }
  },
  {
   "cell_type": "code",
   "execution_count": 136,
   "outputs": [
    {
     "data": {
      "text/plain": "              0\n10    3  2 to 5\n11    2  9 to 6\n12    4  7 to 1\n13    7  3 to 4\n14    2  9 to 8\n..          ...\n507   1  4 to 7\n508   1  9 to 6\n509   9  6 to 7\n510   1  2 to 4\n511   1  9 to 5\n\n[502 rows x 1 columns]",
      "text/html": "<div>\n<style scoped>\n    .dataframe tbody tr th:only-of-type {\n        vertical-align: middle;\n    }\n\n    .dataframe tbody tr th {\n        vertical-align: top;\n    }\n\n    .dataframe thead th {\n        text-align: right;\n    }\n</style>\n<table border=\"1\" class=\"dataframe\">\n  <thead>\n    <tr style=\"text-align: right;\">\n      <th></th>\n      <th>0</th>\n    </tr>\n  </thead>\n  <tbody>\n    <tr>\n      <th>10</th>\n      <td>3  2 to 5</td>\n    </tr>\n    <tr>\n      <th>11</th>\n      <td>2  9 to 6</td>\n    </tr>\n    <tr>\n      <th>12</th>\n      <td>4  7 to 1</td>\n    </tr>\n    <tr>\n      <th>13</th>\n      <td>7  3 to 4</td>\n    </tr>\n    <tr>\n      <th>14</th>\n      <td>2  9 to 8</td>\n    </tr>\n    <tr>\n      <th>...</th>\n      <td>...</td>\n    </tr>\n    <tr>\n      <th>507</th>\n      <td>1  4 to 7</td>\n    </tr>\n    <tr>\n      <th>508</th>\n      <td>1  9 to 6</td>\n    </tr>\n    <tr>\n      <th>509</th>\n      <td>9  6 to 7</td>\n    </tr>\n    <tr>\n      <th>510</th>\n      <td>1  2 to 4</td>\n    </tr>\n    <tr>\n      <th>511</th>\n      <td>1  9 to 5</td>\n    </tr>\n  </tbody>\n</table>\n<p>502 rows × 1 columns</p>\n</div>"
     },
     "execution_count": 136,
     "metadata": {},
     "output_type": "execute_result"
    }
   ],
   "source": [
    "df_inst\n"
   ],
   "metadata": {
    "collapsed": false
   }
  },
  {
   "cell_type": "code",
   "execution_count": null,
   "outputs": [],
   "source": [],
   "metadata": {
    "collapsed": false
   }
  }
 ],
 "metadata": {
  "kernelspec": {
   "display_name": "Python 3",
   "language": "python",
   "name": "python3"
  },
  "language_info": {
   "codemirror_mode": {
    "name": "ipython",
    "version": 2
   },
   "file_extension": ".py",
   "mimetype": "text/x-python",
   "name": "python",
   "nbconvert_exporter": "python",
   "pygments_lexer": "ipython2",
   "version": "2.7.6"
  }
 },
 "nbformat": 4,
 "nbformat_minor": 0
}
