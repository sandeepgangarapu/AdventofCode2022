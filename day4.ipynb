{
 "cells": [
  {
   "cell_type": "code",
   "execution_count": 114,
   "metadata": {
    "collapsed": true
   },
   "outputs": [],
   "source": [
    "import numpy as np\n",
    "import pandas as pd\n",
    "df = pd.read_csv('input_files/day4.txt', names =['first_range','second_range'], index_col=False, header=None, skip_blank_lines=False)"
   ]
  },
  {
   "cell_type": "markdown",
   "source": [
    "Problem 1"
   ],
   "metadata": {
    "collapsed": false
   }
  },
  {
   "cell_type": "code",
   "execution_count": 115,
   "outputs": [],
   "source": [
    "df[['elf1_start', 'elf1_end']] = df['first_range'].str.split('-', expand=True).astype(int)\n",
    "df[['elf2_start', 'elf2_end']] = df['second_range'].str.split('-', expand=True).astype(int)\n",
    "df[['elf1_start','elf1_end', 'elf2_start', 'elf2_end']] =df.apply(lambda x: [x['elf2_start'],x['elf2_end'], x['elf1_start'], x['elf1_end']] if x['elf1_start']>x['elf2_start'] else\n",
    "[x['elf1_start'],x['elf1_end'], x['elf2_start'], x['elf2_end']], axis=1, result_type='expand')"
   ],
   "metadata": {
    "collapsed": false
   }
  },
  {
   "cell_type": "code",
   "execution_count": 116,
   "outputs": [
    {
     "data": {
      "text/plain": "435"
     },
     "execution_count": 116,
     "metadata": {},
     "output_type": "execute_result"
    }
   ],
   "source": [
    "df['prob_1_bool'] = df.apply(lambda x: True if x['elf2_end'] <= x['elf1_end'] else False, axis=1)\n",
    "df['prob_1_bool'].sum()"
   ],
   "metadata": {
    "collapsed": false
   }
  },
  {
   "cell_type": "markdown",
   "source": [
    "Problem 2"
   ],
   "metadata": {
    "collapsed": false
   }
  },
  {
   "cell_type": "code",
   "execution_count": 117,
   "outputs": [
    {
     "data": {
      "text/plain": "874"
     },
     "execution_count": 117,
     "metadata": {},
     "output_type": "execute_result"
    }
   ],
   "source": [
    "df['prob_2_bool'] = df.apply(lambda x: True if x['elf1_end'] >= x['elf2_start'] else False, axis=1)\n",
    "df['prob_2_bool'].sum()"
   ],
   "metadata": {
    "collapsed": false
   }
  },
  {
   "cell_type": "code",
   "execution_count": 118,
   "outputs": [
    {
     "data": {
      "text/plain": "    first_range second_range  elf1_start  elf1_end  elf2_start  elf2_end  \\\n0         16-80        80-87          16        80          80        87   \n1           4-9        10-97           4         9          10        97   \n2          6-94        93-93           6        94          93        93   \n3         31-73         8-73           8        73          31        73   \n4          4-72         5-73           4        72           5        73   \n..          ...          ...         ...       ...         ...       ...   \n995       37-95        94-95          37        95          94        95   \n996       41-42        26-43          26        43          41        42   \n997       18-92        19-92          18        92          19        92   \n998       70-90        19-79          19        79          70        90   \n999       16-95        15-96          15        96          16        95   \n\n     prob_1_bool  prob_2_bool  \n0          False         True  \n1          False        False  \n2           True         True  \n3           True         True  \n4          False         True  \n..           ...          ...  \n995         True         True  \n996         True         True  \n997         True         True  \n998        False         True  \n999         True         True  \n\n[1000 rows x 8 columns]",
      "text/html": "<div>\n<style scoped>\n    .dataframe tbody tr th:only-of-type {\n        vertical-align: middle;\n    }\n\n    .dataframe tbody tr th {\n        vertical-align: top;\n    }\n\n    .dataframe thead th {\n        text-align: right;\n    }\n</style>\n<table border=\"1\" class=\"dataframe\">\n  <thead>\n    <tr style=\"text-align: right;\">\n      <th></th>\n      <th>first_range</th>\n      <th>second_range</th>\n      <th>elf1_start</th>\n      <th>elf1_end</th>\n      <th>elf2_start</th>\n      <th>elf2_end</th>\n      <th>prob_1_bool</th>\n      <th>prob_2_bool</th>\n    </tr>\n  </thead>\n  <tbody>\n    <tr>\n      <th>0</th>\n      <td>16-80</td>\n      <td>80-87</td>\n      <td>16</td>\n      <td>80</td>\n      <td>80</td>\n      <td>87</td>\n      <td>False</td>\n      <td>True</td>\n    </tr>\n    <tr>\n      <th>1</th>\n      <td>4-9</td>\n      <td>10-97</td>\n      <td>4</td>\n      <td>9</td>\n      <td>10</td>\n      <td>97</td>\n      <td>False</td>\n      <td>False</td>\n    </tr>\n    <tr>\n      <th>2</th>\n      <td>6-94</td>\n      <td>93-93</td>\n      <td>6</td>\n      <td>94</td>\n      <td>93</td>\n      <td>93</td>\n      <td>True</td>\n      <td>True</td>\n    </tr>\n    <tr>\n      <th>3</th>\n      <td>31-73</td>\n      <td>8-73</td>\n      <td>8</td>\n      <td>73</td>\n      <td>31</td>\n      <td>73</td>\n      <td>True</td>\n      <td>True</td>\n    </tr>\n    <tr>\n      <th>4</th>\n      <td>4-72</td>\n      <td>5-73</td>\n      <td>4</td>\n      <td>72</td>\n      <td>5</td>\n      <td>73</td>\n      <td>False</td>\n      <td>True</td>\n    </tr>\n    <tr>\n      <th>...</th>\n      <td>...</td>\n      <td>...</td>\n      <td>...</td>\n      <td>...</td>\n      <td>...</td>\n      <td>...</td>\n      <td>...</td>\n      <td>...</td>\n    </tr>\n    <tr>\n      <th>995</th>\n      <td>37-95</td>\n      <td>94-95</td>\n      <td>37</td>\n      <td>95</td>\n      <td>94</td>\n      <td>95</td>\n      <td>True</td>\n      <td>True</td>\n    </tr>\n    <tr>\n      <th>996</th>\n      <td>41-42</td>\n      <td>26-43</td>\n      <td>26</td>\n      <td>43</td>\n      <td>41</td>\n      <td>42</td>\n      <td>True</td>\n      <td>True</td>\n    </tr>\n    <tr>\n      <th>997</th>\n      <td>18-92</td>\n      <td>19-92</td>\n      <td>18</td>\n      <td>92</td>\n      <td>19</td>\n      <td>92</td>\n      <td>True</td>\n      <td>True</td>\n    </tr>\n    <tr>\n      <th>998</th>\n      <td>70-90</td>\n      <td>19-79</td>\n      <td>19</td>\n      <td>79</td>\n      <td>70</td>\n      <td>90</td>\n      <td>False</td>\n      <td>True</td>\n    </tr>\n    <tr>\n      <th>999</th>\n      <td>16-95</td>\n      <td>15-96</td>\n      <td>15</td>\n      <td>96</td>\n      <td>16</td>\n      <td>95</td>\n      <td>True</td>\n      <td>True</td>\n    </tr>\n  </tbody>\n</table>\n<p>1000 rows × 8 columns</p>\n</div>"
     },
     "execution_count": 118,
     "metadata": {},
     "output_type": "execute_result"
    }
   ],
   "source": [
    "df"
   ],
   "metadata": {
    "collapsed": false
   }
  },
  {
   "cell_type": "code",
   "execution_count": null,
   "outputs": [],
   "source": [],
   "metadata": {
    "collapsed": false
   }
  }
 ],
 "metadata": {
  "kernelspec": {
   "display_name": "Python 3",
   "language": "python",
   "name": "python3"
  },
  "language_info": {
   "codemirror_mode": {
    "name": "ipython",
    "version": 2
   },
   "file_extension": ".py",
   "mimetype": "text/x-python",
   "name": "python",
   "nbconvert_exporter": "python",
   "pygments_lexer": "ipython2",
   "version": "2.7.6"
  }
 },
 "nbformat": 4,
 "nbformat_minor": 0
}
