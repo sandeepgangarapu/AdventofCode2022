{
 "cells": [
  {
   "cell_type": "code",
   "execution_count": 2,
   "metadata": {
    "collapsed": true
   },
   "outputs": [],
   "source": [
    "import numpy as np\n",
    "import pandas as pd\n",
    "data = pd.read_csv('input_files/day1.txt', header=None, skip_blank_lines=False)"
   ]
  },
  {
   "cell_type": "markdown",
   "source": [
    "code here"
   ],
   "metadata": {
    "collapsed": false
   }
  },
  {
   "cell_type": "code",
   "execution_count": 3,
   "outputs": [
    {
     "name": "stdout",
     "output_type": "stream",
     "text": [
      "211189.0\n"
     ]
    }
   ],
   "source": [
    "lis = np.array(data[0])\n",
    "missing_val_indices = np.where(np.isnan(lis))[0]\n",
    "split_lis = np.split(lis, missing_val_indices)\n",
    "out = list(map(np.nansum, split_lis))\n",
    "out = np.sort(np.array(out))[::-1][0:3]\n",
    "print(np.sum(out))"
   ],
   "metadata": {
    "collapsed": false
   }
  },
  {
   "cell_type": "code",
   "execution_count": null,
   "outputs": [],
   "source": [],
   "metadata": {
    "collapsed": false
   }
  }
 ],
 "metadata": {
  "kernelspec": {
   "display_name": "Python 3",
   "language": "python",
   "name": "python3"
  },
  "language_info": {
   "codemirror_mode": {
    "name": "ipython",
    "version": 2
   },
   "file_extension": ".py",
   "mimetype": "text/x-python",
   "name": "python",
   "nbconvert_exporter": "python",
   "pygments_lexer": "ipython2",
   "version": "2.7.6"
  }
 },
 "nbformat": 4,
 "nbformat_minor": 0
}
